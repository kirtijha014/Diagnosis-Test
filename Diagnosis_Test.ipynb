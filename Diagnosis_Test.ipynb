{
  "nbformat": 4,
  "nbformat_minor": 0,
  "metadata": {
    "colab": {
      "name": "Untitled1.ipynb",
      "provenance": [],
      "authorship_tag": "ABX9TyPdsQH7heFaec779j9Nm7/Q",
      "include_colab_link": true
    },
    "kernelspec": {
      "name": "python3",
      "display_name": "Python 3"
    },
    "language_info": {
      "name": "python"
    }
  },
  "cells": [
    {
      "cell_type": "markdown",
      "metadata": {
        "id": "view-in-github",
        "colab_type": "text"
      },
      "source": [
        "<a href=\"https://colab.research.google.com/github/kirtijha014/Diagnosis-Test/blob/master/Diagnosis_Test.ipynb\" target=\"_parent\"><img src=\"https://colab.research.google.com/assets/colab-badge.svg\" alt=\"Open In Colab\"/></a>"
      ]
    },
    {
      "cell_type": "code",
      "execution_count": 1,
      "metadata": {
        "id": "pef2zy31NoC4"
      },
      "outputs": [],
      "source": [
        "import pandas as pd\n",
        "import numpy as np\n",
        "import matplotlib.pyplot as plt\n",
        "import pandas_profiling as pp"
      ]
    },
    {
      "cell_type": "code",
      "source": [
        "data = pd.read_csv('https://raw.githubusercontent.com/RD1coder/Drug/main/Data.csv',encoding= 'unicode_escape')"
      ],
      "metadata": {
        "id": "xI5JAk95NtMl"
      },
      "execution_count": 4,
      "outputs": []
    },
    {
      "cell_type": "code",
      "source": [
        "X = data.iloc[:, 0:12].values\n",
        "Y = data.iloc[:,13:33].values\n",
        "#print(X)\n",
        "print(Y[:,0])"
      ],
      "metadata": {
        "colab": {
          "base_uri": "https://localhost:8080/"
        },
        "id": "H2g2WAyLNvqe",
        "outputId": "8d478976-5124-4ce8-b86f-628271eae5d1"
      },
      "execution_count": 8,
      "outputs": [
        {
          "output_type": "stream",
          "name": "stdout",
          "text": [
            "['Renal Function Test' 'Serum Urea' 'None' ... 'HBS Ag ELISA' ' T4 & TSH)'\n",
            " 'Serum Calcium']\n"
          ]
        }
      ]
    },
    {
      "cell_type": "code",
      "source": [
        "from sklearn.preprocessing import OneHotEncoder\n",
        "from sklearn.compose import ColumnTransformer\n",
        "ct = ColumnTransformer(transformers=[(\"encode\",OneHotEncoder(sparse = False),[0,1,2,3,4,5,6,7,8,9,10,11])],remainder = \"passthrough\")\n",
        "X = np.array(ct.fit_transform(X))\n",
        "print(X)"
      ],
      "metadata": {
        "colab": {
          "base_uri": "https://localhost:8080/"
        },
        "id": "6PAS4kUiODCG",
        "outputId": "6fd9fae6-1790-4b85-f0bd-a94b62ff9ebf"
      },
      "execution_count": 9,
      "outputs": [
        {
          "output_type": "stream",
          "name": "stdout",
          "text": [
            "[[0. 0. 0. ... 1. 0. 0.]\n",
            " [0. 0. 0. ... 0. 1. 0.]\n",
            " [0. 0. 0. ... 1. 0. 0.]\n",
            " ...\n",
            " [0. 0. 0. ... 0. 1. 0.]\n",
            " [0. 0. 0. ... 0. 1. 0.]\n",
            " [0. 0. 0. ... 0. 1. 0.]]\n"
          ]
        }
      ]
    },
    {
      "cell_type": "code",
      "source": [
        "x,y = Y.shape\n",
        "label = []\n",
        "labels = []\n",
        "\n",
        "for k in range(y):\n",
        "  temp = Y[:,k]\n",
        "  #print(temp)\n",
        "  for i in temp:\n",
        "      if i in label:\n",
        "          pass\n",
        "      else:\n",
        "          label.append(i)\n",
        "\n",
        "  #print(label)\n",
        "  for l in range(x):\n",
        "      for i in range(len(label)):\n",
        "          if (label[i]==temp[l]):\n",
        "              temp[l] = i\n",
        "          else :\n",
        "              pass\n",
        "  Y[:,k] = temp.astype(np.float)\n",
        "  labels.append(label)\n",
        "print(Y)\n",
        "#print(len(label))\n"
      ],
      "metadata": {
        "colab": {
          "base_uri": "https://localhost:8080/"
        },
        "id": "LY7G5MPlODYY",
        "outputId": "b1e05faf-eba3-4372-8ce8-6144a0e7c207"
      },
      "execution_count": 10,
      "outputs": [
        {
          "output_type": "stream",
          "name": "stdout",
          "text": [
            "[[0.0 15.0 22.0 ... 2.0 2.0 2.0]\n",
            " [1.0 22.0 15.0 ... 2.0 2.0 2.0]\n",
            " [2.0 2.0 2.0 ... 2.0 2.0 2.0]\n",
            " ...\n",
            " [20.0 58.0 25.0 ... 2.0 2.0 2.0]\n",
            " [9.0 2.0 2.0 ... 2.0 2.0 2.0]\n",
            " [39.0 2.0 2.0 ... 2.0 2.0 2.0]]\n"
          ]
        }
      ]
    },
    {
      "cell_type": "code",
      "source": [
        "print(labels[0][95])"
      ],
      "metadata": {
        "colab": {
          "base_uri": "https://localhost:8080/"
        },
        "id": "a-YSuCoiOHVW",
        "outputId": "df70fe3c-e78c-482b-925f-7ae34b9562e7"
      },
      "execution_count": 11,
      "outputs": [
        {
          "output_type": "stream",
          "name": "stdout",
          "text": [
            "HIV Rapid\n"
          ]
        }
      ]
    },
    {
      "cell_type": "code",
      "source": [
        ""
      ],
      "metadata": {
        "id": "qDOBC9-TObUd"
      },
      "execution_count": null,
      "outputs": []
    }
  ]
}